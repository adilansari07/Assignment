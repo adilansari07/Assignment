{
 "cells": [
  {
   "cell_type": "code",
   "execution_count": 1,
   "id": "7b9b7efc-fa0b-425a-be92-e0b8f4813462",
   "metadata": {},
   "outputs": [],
   "source": [
    "                            #ASSIGNMENT    9TH MAY"
   ]
  },
  {
   "cell_type": "code",
   "execution_count": 2,
   "id": "4b34454a-8f4c-4a99-aadd-56f634dffa5a",
   "metadata": {},
   "outputs": [],
   "source": [
    "#Q1"
   ]
  },
  {
   "cell_type": "code",
   "execution_count": 3,
   "id": "1fe114c5-1c2f-4ee0-ac0e-38b04f2cfb63",
   "metadata": {},
   "outputs": [],
   "source": [
    "a=\"Mohd Adil\""
   ]
  },
  {
   "cell_type": "code",
   "execution_count": 4,
   "id": "9cfe34e3-c1ba-4021-9a09-f50e3229e940",
   "metadata": {},
   "outputs": [],
   "source": [
    "b=[12,23,45.23, \"adil\", True , False , 4+8j]"
   ]
  },
  {
   "cell_type": "code",
   "execution_count": 5,
   "id": "807a54be-1197-44a2-abe3-fe142a7437f2",
   "metadata": {},
   "outputs": [],
   "source": [
    "c=12.345"
   ]
  },
  {
   "cell_type": "code",
   "execution_count": 8,
   "id": "2f696a75-e5dd-4d06-886b-79b3a669d905",
   "metadata": {},
   "outputs": [],
   "source": [
    "d=(12,34,\"adil\")"
   ]
  },
  {
   "cell_type": "code",
   "execution_count": 9,
   "id": "343cf6dc-5f1b-4a0d-885a-7016a73bf5a2",
   "metadata": {},
   "outputs": [],
   "source": [
    "#Q2"
   ]
  },
  {
   "cell_type": "code",
   "execution_count": 10,
   "id": "8e040c21-f35a-4123-8d1b-c43247c8d097",
   "metadata": {},
   "outputs": [],
   "source": [
    "a1=''"
   ]
  },
  {
   "cell_type": "code",
   "execution_count": 11,
   "id": "e4296fd7-0e3b-4da3-a1b8-457a274a0ade",
   "metadata": {},
   "outputs": [
    {
     "data": {
      "text/plain": [
       "str"
      ]
     },
     "execution_count": 11,
     "metadata": {},
     "output_type": "execute_result"
    }
   ],
   "source": [
    "type(a1)"
   ]
  },
  {
   "cell_type": "code",
   "execution_count": 12,
   "id": "252405f7-7509-4aac-bf01-c9b1d8d1929b",
   "metadata": {},
   "outputs": [],
   "source": [
    "b2='[DS,ML,python]'"
   ]
  },
  {
   "cell_type": "code",
   "execution_count": 13,
   "id": "0a1ba785-b4de-4c4d-999d-46bd8b42f5ac",
   "metadata": {},
   "outputs": [
    {
     "data": {
      "text/plain": [
       "str"
      ]
     },
     "execution_count": 13,
     "metadata": {},
     "output_type": "execute_result"
    }
   ],
   "source": [
    "type(b2)"
   ]
  },
  {
   "cell_type": "code",
   "execution_count": 14,
   "id": "0403a17b-0143-4b56-9c46-ad8cad6b2770",
   "metadata": {},
   "outputs": [],
   "source": [
    "c1=['DS','ML','python']"
   ]
  },
  {
   "cell_type": "code",
   "execution_count": 15,
   "id": "bbdd6922-cb40-4dfb-b073-fccf96504af9",
   "metadata": {},
   "outputs": [
    {
     "data": {
      "text/plain": [
       "list"
      ]
     },
     "execution_count": 15,
     "metadata": {},
     "output_type": "execute_result"
    }
   ],
   "source": [
    "type(c1)"
   ]
  },
  {
   "cell_type": "code",
   "execution_count": 16,
   "id": "34e11d1c-be2c-4d45-a830-7ba464791992",
   "metadata": {},
   "outputs": [],
   "source": [
    "q=1"
   ]
  },
  {
   "cell_type": "code",
   "execution_count": 17,
   "id": "311c8956-ded4-4bca-b3a9-74799b7a4d72",
   "metadata": {},
   "outputs": [
    {
     "data": {
      "text/plain": [
       "int"
      ]
     },
     "execution_count": 17,
     "metadata": {},
     "output_type": "execute_result"
    }
   ],
   "source": [
    "type(q)"
   ]
  },
  {
   "cell_type": "code",
   "execution_count": 18,
   "id": "a4cb9852-cec3-4161-8c4b-e248a4360476",
   "metadata": {},
   "outputs": [],
   "source": [
    "#Q3"
   ]
  },
  {
   "cell_type": "markdown",
   "id": "f99f31af-ff8d-4f8d-a3ec-550829bec11d",
   "metadata": {},
   "source": [
    "/ is use for division \n",
    "% is use to find the reminder\n",
    "// is use to find the quotient \n",
    "** is used as a power e.g 2**3 = 8"
   ]
  },
  {
   "cell_type": "code",
   "execution_count": 19,
   "id": "5d8663b7-9f67-496a-9b20-caf5650a2c9d",
   "metadata": {},
   "outputs": [],
   "source": [
    "#Q4"
   ]
  },
  {
   "cell_type": "code",
   "execution_count": 35,
   "id": "d5a8f49d-a89a-4ff8-8b3c-5482e271e2a9",
   "metadata": {},
   "outputs": [],
   "source": [
    "a=[12,23,34.5,\"adil\",\"python\", 7+8j ,  True , False, 9+8j,\"pwskill\"]"
   ]
  },
  {
   "cell_type": "code",
   "execution_count": 36,
   "id": "3be68656-87f1-4f8a-9c49-5f72ea8ac954",
   "metadata": {},
   "outputs": [
    {
     "name": "stdout",
     "output_type": "stream",
     "text": [
      "12\n",
      "<class 'int'>\n",
      "23\n",
      "<class 'int'>\n",
      "34.5\n",
      "<class 'float'>\n",
      "adil\n",
      "<class 'str'>\n",
      "python\n",
      "<class 'str'>\n",
      "(7+8j)\n",
      "<class 'complex'>\n",
      "True\n",
      "<class 'bool'>\n",
      "False\n",
      "<class 'bool'>\n",
      "(9+8j)\n",
      "<class 'complex'>\n",
      "pwskill\n",
      "<class 'str'>\n"
     ]
    }
   ],
   "source": [
    "for k in a :\n",
    "    print(k)\n",
    "    print(type(k))"
   ]
  },
  {
   "cell_type": "code",
   "execution_count": 23,
   "id": "623befef-6fcd-44ce-900d-247dbbf4b4dc",
   "metadata": {},
   "outputs": [],
   "source": [
    "#Q6"
   ]
  },
  {
   "cell_type": "code",
   "execution_count": 33,
   "id": "be30dc5e-1fc7-49a9-baf6-0ec274d80720",
   "metadata": {},
   "outputs": [],
   "source": [
    "w=[1,2,3,4,5,6,7,8,9,10,11,12,13,14,15,16,17,18,19,20,21,22,23,24,25]"
   ]
  },
  {
   "cell_type": "code",
   "execution_count": 39,
   "id": "8420145b-0c83-4154-b547-19c5bfe65229",
   "metadata": {},
   "outputs": [
    {
     "name": "stdout",
     "output_type": "stream",
     "text": [
      "3\n",
      "6\n",
      "9\n",
      "12\n",
      "15\n",
      "18\n",
      "21\n",
      "24\n"
     ]
    }
   ],
   "source": [
    "for i in w :\n",
    "    if i%3==0 :\n",
    "        print(i)"
   ]
  },
  {
   "cell_type": "code",
   "execution_count": 40,
   "id": "114c5f5b-fc35-4569-a2e3-82d1575755a4",
   "metadata": {},
   "outputs": [],
   "source": [
    "#Q7"
   ]
  },
  {
   "cell_type": "code",
   "execution_count": null,
   "id": "e840630c-f8ef-457c-98fe-4d32581549ec",
   "metadata": {},
   "outputs": [],
   "source": [
    "The object which are changed after running is called items of list and which can't changed are called immutable eg string"
   ]
  }
 ],
 "metadata": {
  "kernelspec": {
   "display_name": "Python 3 (ipykernel)",
   "language": "python",
   "name": "python3"
  },
  "language_info": {
   "codemirror_mode": {
    "name": "ipython",
    "version": 3
   },
   "file_extension": ".py",
   "mimetype": "text/x-python",
   "name": "python",
   "nbconvert_exporter": "python",
   "pygments_lexer": "ipython3",
   "version": "3.10.8"
  }
 },
 "nbformat": 4,
 "nbformat_minor": 5
}
