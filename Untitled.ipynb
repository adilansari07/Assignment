{
 "cells": [
  {
   "cell_type": "markdown",
   "id": "79e4a9d5-eba8-4373-bf9b-8c2277ac4082",
   "metadata": {},
   "source": [
    "## Assignment"
   ]
  },
  {
   "cell_type": "markdown",
   "id": "4443c57f-3127-4fde-97e4-e8fe9fa5a62c",
   "metadata": {},
   "source": [
    "### Q1"
   ]
  },
  {
   "cell_type": "markdown",
   "id": "39b5d9ba-04df-4a5a-9096-9bd7d3c4b20d",
   "metadata": {},
   "source": [
    "def keyword is used to create a function "
   ]
  },
  {
   "cell_type": "code",
   "execution_count": 5,
   "id": "05f4c874-47c4-4ec5-b0b0-745e896f7005",
   "metadata": {},
   "outputs": [],
   "source": [
    "def test(n):\n",
    "    a = []\n",
    "    for i in range(1,n):\n",
    "        if i%2 != 0 :\n",
    "            a.append(i)\n",
    "    return a\n",
    "        "
   ]
  },
  {
   "cell_type": "code",
   "execution_count": 6,
   "id": "e8843b72-28d8-4348-ab8a-5c1f73f6ebba",
   "metadata": {},
   "outputs": [
    {
     "data": {
      "text/plain": [
       "[1, 3, 5, 7, 9, 11, 13, 15, 17, 19, 21, 23]"
      ]
     },
     "execution_count": 6,
     "metadata": {},
     "output_type": "execute_result"
    }
   ],
   "source": [
    "test(25)"
   ]
  },
  {
   "cell_type": "markdown",
   "id": "fc6e922b-1040-40c6-b376-e615850d6ca7",
   "metadata": {},
   "source": [
    "### Q2"
   ]
  },
  {
   "cell_type": "markdown",
   "id": "87ee1bb7-fb5c-4954-b63a-a0c554b96145",
   "metadata": {},
   "source": [
    "*args and **kwargs is used in some function beacause it holds many arguments at a single time."
   ]
  },
  {
   "cell_type": "code",
   "execution_count": 10,
   "id": "5a07470b-e016-4505-b895-a12b851b7191",
   "metadata": {},
   "outputs": [],
   "source": [
    "def test1(*args):\n",
    "    return args"
   ]
  },
  {
   "cell_type": "code",
   "execution_count": 12,
   "id": "181fc5ef-79c3-4c7f-8a3b-05104952c4c0",
   "metadata": {},
   "outputs": [
    {
     "data": {
      "text/plain": [
       "(1, 2, 3, 3)"
      ]
     },
     "execution_count": 12,
     "metadata": {},
     "output_type": "execute_result"
    }
   ],
   "source": [
    "test1(1,2,3,3)"
   ]
  },
  {
   "cell_type": "code",
   "execution_count": 13,
   "id": "ca3a9991-fd17-4f05-a1f3-5bd172bab0bf",
   "metadata": {},
   "outputs": [],
   "source": [
    "def test2(**kwargs):\n",
    "    return kwargs"
   ]
  },
  {
   "cell_type": "code",
   "execution_count": 16,
   "id": "452e6df0-c33a-426a-ba47-ce74cc4de471",
   "metadata": {},
   "outputs": [
    {
     "data": {
      "text/plain": [
       "{'a': 1, 'b': 'Adil', 'c': {1, 2, 3, 4}, 'd': ['apple', 'banana']}"
      ]
     },
     "execution_count": 16,
     "metadata": {},
     "output_type": "execute_result"
    }
   ],
   "source": [
    "test2(a = 1 , b = \"Adil\" , c = {1,2,3,4} , d = [\"apple\", \"banana\",])"
   ]
  },
  {
   "cell_type": "markdown",
   "id": "39c7ad63-c359-4edf-8921-a79515b1e992",
   "metadata": {},
   "source": [
    "If i type anything in  *args it takes it as a arguments only but in **kwargs we have to type key value and its arguments. "
   ]
  },
  {
   "cell_type": "markdown",
   "id": "ef2cd749-5fb7-41c6-a597-60b7602e340b",
   "metadata": {},
   "source": [
    "### Q3"
   ]
  },
  {
   "cell_type": "markdown",
   "id": "0bac6008-3399-4d27-b119-967ea2ce7910",
   "metadata": {},
   "source": [
    " Iterator is an object that allows me to iterate over collections of data such as list, tuples etc."
   ]
  },
  {
   "cell_type": "code",
   "execution_count": 17,
   "id": "5ee4348d-21bd-4e15-8b9b-e1e8120ba99c",
   "metadata": {},
   "outputs": [],
   "source": [
    "l = [2, 4, 6, 8, 10, 12, 14, 16, 18, 20]"
   ]
  },
  {
   "cell_type": "code",
   "execution_count": 30,
   "id": "fa880b92-d04f-41b0-b969-7c6257106367",
   "metadata": {},
   "outputs": [
    {
     "name": "stdout",
     "output_type": "stream",
     "text": [
      "2\n",
      "4\n",
      "6\n",
      "8\n",
      "10\n"
     ]
    }
   ],
   "source": [
    "for i in l:\n",
    "    if i ==l[5]:\n",
    "        break\n",
    "    print(i)"
   ]
  },
  {
   "cell_type": "markdown",
   "id": "47dfbeae-0f8a-41ab-9ff4-0b4c1f5f0699",
   "metadata": {},
   "source": [
    "### Q4"
   ]
  },
  {
   "cell_type": "markdown",
   "id": "9d0d5ed9-9c37-42da-9ba5-d439729f569d",
   "metadata": {},
   "source": [
    "Generator function is range like function which check the condition and gives outcomes one by one means it behaves like iterator."
   ]
  },
  {
   "cell_type": "markdown",
   "id": "479c29b9-6e41-4419-9eff-99ac1a77a517",
   "metadata": {},
   "source": [
    "Yield key is used to recieve an outcome in the form  of list."
   ]
  },
  {
   "cell_type": "code",
   "execution_count": 32,
   "id": "3919e4bc-c602-450b-a172-6efe5fa46913",
   "metadata": {},
   "outputs": [],
   "source": [
    "def fibonacci(a):\n",
    "    x,y = 0,1\n",
    "    for i in range(a):\n",
    "        yield x\n",
    "        x,y = y,x+y"
   ]
  },
  {
   "cell_type": "code",
   "execution_count": 34,
   "id": "d6f648a9-7b48-4f0a-bae0-7e8ce001d61d",
   "metadata": {},
   "outputs": [
    {
     "data": {
      "text/plain": [
       "[0, 1, 1, 2, 3, 5, 8, 13, 21, 34, 55, 89]"
      ]
     },
     "execution_count": 34,
     "metadata": {},
     "output_type": "execute_result"
    }
   ],
   "source": [
    "list(fibonacci(12))"
   ]
  },
  {
   "cell_type": "markdown",
   "id": "4de606c6-a067-40af-a129-6e6c1474d387",
   "metadata": {},
   "source": [
    "### Q5\n",
    "        \n",
    "            "
   ]
  },
  {
   "cell_type": "code",
   "execution_count": null,
   "id": "1bc1bf40-4a9d-4566-a715-93f97b64ebae",
   "metadata": {},
   "outputs": [],
   "source": [
    "not know how to print but i know how to check the number whether its prime or not.\n",
    "please mail me the answer of this question (email:mohd4082@gmail.com)"
   ]
  }
 ],
 "metadata": {
  "kernelspec": {
   "display_name": "Python 3 (ipykernel)",
   "language": "python",
   "name": "python3"
  },
  "language_info": {
   "codemirror_mode": {
    "name": "ipython",
    "version": 3
   },
   "file_extension": ".py",
   "mimetype": "text/x-python",
   "name": "python",
   "nbconvert_exporter": "python",
   "pygments_lexer": "ipython3",
   "version": "3.10.8"
  }
 },
 "nbformat": 4,
 "nbformat_minor": 5
}
