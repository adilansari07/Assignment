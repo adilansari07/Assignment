{
 "cells": [
  {
   "cell_type": "markdown",
   "id": "eb5c2ccc-9236-478a-8872-15af572618ce",
   "metadata": {},
   "source": [
    "## 15 May Assignment"
   ]
  },
  {
   "cell_type": "markdown",
   "id": "40aa70a7-9eac-4b12-a67d-b19b08552774",
   "metadata": {},
   "source": [
    "## Q1"
   ]
  },
  {
   "cell_type": "markdown",
   "id": "050b9430-0a76-478c-86f0-c0b7280d9904",
   "metadata": {},
   "source": [
    "To comment something in python we use triple comma in starting and ending of a text which i want to comment  "
   ]
  },
  {
   "cell_type": "markdown",
   "id": "fe6a3872-e564-4c34-88ae-1615e67f16b1",
   "metadata": {},
   "source": [
    "(# tag is used for comment)"
   ]
  },
  {
   "cell_type": "markdown",
   "id": "671a9d29-3677-4402-8b7e-bbca6c3a763f",
   "metadata": {},
   "source": [
    "We write anything and convert into a markdown "
   ]
  },
  {
   "cell_type": "markdown",
   "id": "d706d58c-6035-43e6-92fe-045479511ef3",
   "metadata": {},
   "source": [
    "## Q2"
   ]
  },
  {
   "cell_type": "markdown",
   "id": "4d937745-01af-4959-87e3-e9a60cc7802f",
   "metadata": {},
   "source": [
    "Variable is a type of data which we store in an memory location"
   ]
  },
  {
   "cell_type": "markdown",
   "id": "30dcd21e-2f89-4d34-8b3f-fa768d35df0f",
   "metadata": {},
   "source": [
    "## Q3"
   ]
  },
  {
   "cell_type": "code",
   "execution_count": 5,
   "id": "d3cdc122-9e45-4273-8de1-d270864313f5",
   "metadata": {},
   "outputs": [],
   "source": [
    "a = 2  # here a is integer"
   ]
  },
  {
   "cell_type": "code",
   "execution_count": 6,
   "id": "0d893df4-fa75-43bd-8a2a-fc52866121d2",
   "metadata": {},
   "outputs": [
    {
     "data": {
      "text/plain": [
       "int"
      ]
     },
     "execution_count": 6,
     "metadata": {},
     "output_type": "execute_result"
    }
   ],
   "source": [
    "type(a)"
   ]
  },
  {
   "cell_type": "code",
   "execution_count": 9,
   "id": "5d1c7c8e-977e-4904-a203-eb50bfb2e512",
   "metadata": {},
   "outputs": [],
   "source": [
    "a = \"2\"  # here a is striing"
   ]
  },
  {
   "cell_type": "code",
   "execution_count": 10,
   "id": "f10c288d-7957-4d7c-b0da-b8d92f1f41c4",
   "metadata": {},
   "outputs": [
    {
     "data": {
      "text/plain": [
       "str"
      ]
     },
     "execution_count": 10,
     "metadata": {},
     "output_type": "execute_result"
    }
   ],
   "source": [
    "type(a)"
   ]
  },
  {
   "cell_type": "markdown",
   "id": "8272ab93-ee6b-4a9a-8f98-98623bd9008f",
   "metadata": {},
   "source": [
    "## Q5"
   ]
  },
  {
   "cell_type": "code",
   "execution_count": 12,
   "id": "141832bd-4c04-41db-8117-b544486605f2",
   "metadata": {},
   "outputs": [],
   "source": [
    "my_list = [1, 2, 3, 4, 5]"
   ]
  },
  {
   "cell_type": "code",
   "execution_count": 14,
   "id": "a95011dd-fdf8-4021-9450-0b98cfbd5c50",
   "metadata": {},
   "outputs": [
    {
     "data": {
      "text/plain": [
       "[2, 3]"
      ]
     },
     "execution_count": 14,
     "metadata": {},
     "output_type": "execute_result"
    }
   ],
   "source": [
    "my_list[1:3]"
   ]
  },
  {
   "cell_type": "markdown",
   "id": "25ece709-8fb7-4e7c-9715-573eeb02f641",
   "metadata": {},
   "source": [
    "## Q6"
   ]
  },
  {
   "cell_type": "markdown",
   "id": "8fee8352-a676-4a5c-b1d2-d9230312dc71",
   "metadata": {},
   "source": [
    "Complex number is a combination of real number and imaginary number which is written in the form of a+ij"
   ]
  },
  {
   "cell_type": "code",
   "execution_count": 17,
   "id": "5e68cbf2-d3f5-4381-a429-8d301c68046f",
   "metadata": {},
   "outputs": [],
   "source": [
    "a = 3+7j"
   ]
  },
  {
   "cell_type": "code",
   "execution_count": 18,
   "id": "a1f1ee7e-53df-47d6-bdb5-5b4e4d2131d7",
   "metadata": {},
   "outputs": [
    {
     "data": {
      "text/plain": [
       "complex"
      ]
     },
     "execution_count": 18,
     "metadata": {},
     "output_type": "execute_result"
    }
   ],
   "source": [
    "type(a)"
   ]
  },
  {
   "cell_type": "markdown",
   "id": "8a849820-da33-469b-a22d-01867166e2c1",
   "metadata": {},
   "source": [
    "## Q7"
   ]
  },
  {
   "cell_type": "code",
   "execution_count": 19,
   "id": "27a242f9-c808-4ceb-b361-467f2391cc29",
   "metadata": {},
   "outputs": [],
   "source": [
    "age = 25"
   ]
  },
  {
   "cell_type": "code",
   "execution_count": 20,
   "id": "9291f111-4411-41a8-9650-4c63796d8cad",
   "metadata": {},
   "outputs": [
    {
     "data": {
      "text/plain": [
       "25"
      ]
     },
     "execution_count": 20,
     "metadata": {},
     "output_type": "execute_result"
    }
   ],
   "source": [
    "age"
   ]
  },
  {
   "cell_type": "markdown",
   "id": "76d9bbba-0ca7-4a11-b6ff-4837efa62c15",
   "metadata": {},
   "source": [
    "## Q8"
   ]
  },
  {
   "cell_type": "code",
   "execution_count": 21,
   "id": "8d607e7b-cc32-41bc-a1a3-9d113a5ae28f",
   "metadata": {},
   "outputs": [],
   "source": [
    "price = 9.99"
   ]
  },
  {
   "cell_type": "markdown",
   "id": "9c852d33-4228-48d9-ab84-7b2df3d6e5fa",
   "metadata": {},
   "source": [
    "The data type of price is a floating number"
   ]
  },
  {
   "cell_type": "markdown",
   "id": "9f6c292a-8c3e-4cf7-9a29-1c15af8bcc8b",
   "metadata": {},
   "source": [
    "## Q9"
   ]
  },
  {
   "cell_type": "code",
   "execution_count": 23,
   "id": "df11bbd0-081e-42f5-af77-bdc98d07f876",
   "metadata": {},
   "outputs": [],
   "source": [
    "name = \"Mohd Adil\""
   ]
  },
  {
   "cell_type": "code",
   "execution_count": 24,
   "id": "051d3626-2c58-4f72-9883-066a2ece80d4",
   "metadata": {},
   "outputs": [
    {
     "name": "stdout",
     "output_type": "stream",
     "text": [
      "Mohd Adil\n"
     ]
    }
   ],
   "source": [
    "print(name)"
   ]
  },
  {
   "cell_type": "markdown",
   "id": "467eb270-f13c-492b-aaf6-61a36e2f1e81",
   "metadata": {},
   "source": [
    "## Q10"
   ]
  },
  {
   "cell_type": "code",
   "execution_count": 26,
   "id": "ddcb000d-0e5e-4a11-a574-cc237f46e110",
   "metadata": {},
   "outputs": [],
   "source": [
    "a = \"Hello , World!\""
   ]
  },
  {
   "cell_type": "code",
   "execution_count": 29,
   "id": "4566b0b1-492f-49f8-88cf-888af46c424c",
   "metadata": {},
   "outputs": [
    {
     "data": {
      "text/plain": [
       "'World!'"
      ]
     },
     "execution_count": 29,
     "metadata": {},
     "output_type": "execute_result"
    }
   ],
   "source": [
    "a[8:15]"
   ]
  },
  {
   "cell_type": "markdown",
   "id": "e2247adf-93ba-47d8-8bd8-241349039dee",
   "metadata": {},
   "source": [
    "## Q11"
   ]
  },
  {
   "cell_type": "code",
   "execution_count": 31,
   "id": "5dab16b4-60b6-45a6-9fdd-ce8eaaa7b7b7",
   "metadata": {},
   "outputs": [],
   "source": [
    "is_student = True"
   ]
  },
  {
   "cell_type": "code",
   "execution_count": null,
   "id": "f474bd6b-c6bf-49bc-a41f-e1f1cbb89d4b",
   "metadata": {},
   "outputs": [],
   "source": []
  }
 ],
 "metadata": {
  "kernelspec": {
   "display_name": "Python 3 (ipykernel)",
   "language": "python",
   "name": "python3"
  },
  "language_info": {
   "codemirror_mode": {
    "name": "ipython",
    "version": 3
   },
   "file_extension": ".py",
   "mimetype": "text/x-python",
   "name": "python",
   "nbconvert_exporter": "python",
   "pygments_lexer": "ipython3",
   "version": "3.10.8"
  }
 },
 "nbformat": 4,
 "nbformat_minor": 5
}
